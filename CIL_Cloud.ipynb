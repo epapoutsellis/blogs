{
  "cells": [
    {
      "cell_type": "markdown",
      "metadata": {
        "id": "view-in-github",
        "colab_type": "text"
      },
      "source": [
        "<a href=\"https://colab.research.google.com/github/epapoutsellis/blogs/blob/main/CIL_Cloud.ipynb\" target=\"_parent\"><img src=\"https://colab.research.google.com/assets/colab-badge.svg\" alt=\"Open In Colab\"/></a>"
      ]
    },
    {
      "cell_type": "markdown",
      "metadata": {
        "id": "Hkjqt0gh9RZF"
      },
      "source": [
        "<h1><center>CIL on the Cloud</center></h1>"
      ]
    },
    {
      "cell_type": "markdown",
      "metadata": {
        "id": "Svx_w3Fj9RZJ"
      },
      "source": [
        "In this blog, we will demonstrate how to use the Core Imaging Library (CIL), an open source software for imaging inverse problems, on cloud platforms like Binder and Google Colab. These platforms offer cloud-based environments with pre-installed packages and resources, making them highly suitable for teaching and training purposes. In addition, if you do not have a GPU or you are a macOS user without GPU or without the right GPU these cloud platforms serve as an excellent alternative. Or maybe you lost connection to your Windows/Linux remote machines and you really want to reconstruct a tomographic dataset.\n",
        "\n",
        "## Outline\n",
        "* [What is CIL?](#section1)\n",
        "* [Cloud platforms: Google Colab and Binder](#section2)\n",
        "    * [Binder or Colab](#subsection21)\n",
        "* [Install CIL on Colab](#section3) \n",
        "    * [Check Python version](#subsection31)\n",
        "    * [Install TIGRE](#subsection32)\n",
        "    * [Install CondaColab](#subsection33)\n",
        "    * [Install Conda](#subsection34)\n",
        "    * [Install CIL](#subsection35)\n",
        "* [Tomography reconstruction using CIL](#section4)     \n",
        "    * [Import CIL](#subsection41) \n",
        "    * [Import Tomography backends](#subsection42) \n",
        "    * [Load and examine real 3D dataset](#subsection43) \n",
        "    * [Preprocess Acquisition Data](#subsection44) \n",
        "    * [Run analytic reconstruction: FBP using Astra and Tigre](#subsection45) \n",
        "    * [Run Model-Based iterative reconstruction: Total variation reconstruction](#subsection46) \n",
        "    * [Discussion](#subsection47) \n",
        "* [CIL Demos on Colab](#section5)  \n",
        "    "
      ]
    },
    {
      "cell_type": "markdown",
      "metadata": {
        "id": "dZcvnnZ59RZL"
      },
      "source": [
        "## What is CIL?  <a class=\"anchor\" id=\"section1\"></a>\n",
        "\n",
        "The Core Imaging Library or CIL is an open-source Python framework for solving inverse problems in imaging with particular emphasis on tomographic imaging and reconstruction. It is supported by the [Collaborative Computational Project in Tomographic Imaging (CCPi)](https://ccpi.ac.uk/), a UK academic network, which unites expertise in the field of Computed Tomography (CT). Its aim is to provide the community with software to increase the quality and level of information that can be extracted by CT, with an emphasis in software sustainability, maintainability and distribution. \n",
        "\n",
        "To learn more about CIL, please check the links below.\n",
        "\n",
        "- **Github Repositories** \n",
        "    - [CIL](https://github.com/TomographicImaging/CIL)\n",
        "    - [CIL-Demos](https://github.com/TomographicImaging/CIL-Demos)\n",
        "- **Software Papers**\n",
        "    - [Core Imaging Library--Part I: a versatile Python framework for tomographic imaging](https://royalsocietypublishing.org/doi/abs/10.1098/rsta.2020.0192). [Code](https://github.com/TomographicImaging/Paper-2021-RSTA-CIL-Part-I)\n",
        "    - [Core Imaging Library--Part II: Multichannel reconstruction for dynamic and spectral tomography](https://royalsocietypublishing.org/doi/abs/10.1098/rsta.2020.0193). [Code](https://github.com/TomographicImaging/Paper-2021-RSTA-CIL-Part-II)\n",
        "- **Talks and Posters**\n",
        "    - [PyCon DE & PyData Berlin 2022](https://www.youtube.com/watch?v=Xd4erPj0uEs)\n",
        "    - [STEM for Britain Poster, Finalist Mathematics Section, 2020](https://epapoutsellis.github.io/assets/pdf/poster_STEM_for_Britain.pdf)\n",
        "    - [Augmented Reality Poster](https://editor.postreality.io/view/addf28cc-2830-11ec-966e-d792f7fbd6cb)\n",
        "\n",
        "To join the CIL community, you can register at our [Discord channel](https://discord.com/invite/9NTWu9MEGq).\n"
      ]
    },
    {
      "cell_type": "markdown",
      "metadata": {
        "id": "6OwZ4XeC9RZM"
      },
      "source": [
        "## Cloud platforms <a class=\"anchor\" id=\"section2\"></a>\n",
        "\n",
        "In addition to the local installation available via conda, see [here](https://github.com/TomographicImaging/CIL#installation-of-cil), we have two alternatives to use CIL on the cloud: 1) Binder and 2) Google Colab.\n",
        "\n",
        "* Binder: The [Binder Project](https://mybinder.readthedocs.io/en/latest/#) offers an easy place to create sharable, interactive, reproducible computing environments. Using the [mybinder.org](https://mybinder.org/) platform we transform a github repository into a collection of interactive notebooks without any installation. So, you are one click away from our CIL demos: [![Binder](https://mybinder.org/badge_logo.svg)](https://mybinder.org/v2/gh/TomographicImaging/CIL-Demos/HEAD?urlpath=lab/tree/binder%2Findex.ipynb)\n",
        "\n",
        "* Google Colab: Google Colaboratory, or \"Colab\" is a cloud-based Jupyter notebook environment. It runs on Google Cloud Platform (GCP), and provides free access to GPUs and TPUs with many pre-installed scientific libraries."
      ]
    },
    {
      "cell_type": "markdown",
      "metadata": {
        "id": "SUNrvTX-9RZM"
      },
      "source": [
        "## Binder or Colab <a class=\"anchor\" id=\"subsection21\"></a>\n",
        "\n",
        "In my opinion, the easiest choice to check some interactive jupyter demos and see the interface of an open source software, is Binder. However, in this case only CPU is available which is not the best option for tomography imaging. Also, you have limited memory and space if you want to upload some tomography datasets. A couple years ago, Binder was quite fast when building your image and if the image was recently built you could see the interactive demos in less than one minute. Nowdays, Binderhub servers have a lot of activity with many users and requesting a server can take a lot of time and sometimes you will receive a message such as : _Found built image, launching... Too many users on this BinderHub! Try again soon._. \n",
        "\n",
        "In the case of Colab, we have the option of a free GPU up to 16Gb, which is very useful for tomography imaging and reconstruction. Also, you can upload some datasets to your personal google drive. However, CIL or other packages are not pre-installed in you jupyter environment. Therefore, we need to use `pip` or `conda` to install our software. Pip is the default option to install python libraries on Google Colab, e.g., `!pip install name_of_package`. Unfortunately, Conda is not available by default and we need to install it first and then use it, e.g., `!conda install name_of_package`.\n",
        "\n",
        "**Please note that Colab has recently upgraded its default runtime to Python version 3.10.**\n",
        "The next version of Python (3.11) is scheduled to have its final regular bug fix release in April 2024. Previous version (Python 3.9) is available from the `Command Palette` (`Ctrl+Shift+P`) via the `Use fallback runtime version` command when connected to a runtime. This will be available until mid-May 2023. See [here](https://medium.com/google-colab/colab-updated-to-python-3-10-27eb02daa162) for more information."
      ]
    },
    {
      "cell_type": "markdown",
      "metadata": {
        "id": "wwP0XybQ9RZN"
      },
      "source": [
        "## Install CIL on Colab <a class=\"anchor\" id=\"section3\"></a>\n",
        "\n",
        "In this section, we discuss how to install CIL and all its dependencies on Google Colab required for this notebook. In CIL, we provide wrappers for two tomography backends: 1) [Astra-Toolbox](https://github.com/astra-toolbox/astra-toolbox) and 2) [TIGRE](https://github.com/CERN/TIGRE). In addition, we are going to use the [CCPi-Regularisation-Toolkit](https://github.com/vais-ral/CCPi-Regularisation-Toolkit) which provides a set of 2D/3D regularisation methods with CPU/GPU acceleration. We follow the installation steps below:\n",
        "\n",
        "1) Check python version on your current jupyter session. It should be `Python 3.10.10`.\n",
        "\n",
        "2) Install TIGRE tomography backend following similar steps to [Python installation]( https://github.com/CERN/TIGRE/blob/master/Frontispiece/python_installation.md).\n",
        "\n",
        "3) Install the [condacolab](https://github.com/conda-incubator/condacolab) package. This is the easiest way to install install `conda` on google colab.\n",
        "\n",
        "4) Import `condacolab` and install `conda`.\n",
        "\n",
        "5) Install CIL with the Astra-Toolbox backend and the CCPi-Regularisation Toolkit using `conda`.\n",
        "\n",
        "\n",
        "You can continue reading or try this notebook directly on Google Colab. [![Open In Colab](https://colab.research.google.com/assets/colab-badge.svg)](https://colab.research.google.com/github/epapoutsellis/blogs/blob/main/CIL_Cloud.ipynb)\n"
      ]
    },
    {
      "cell_type": "markdown",
      "metadata": {
        "id": "6BTecenX9RZN"
      },
      "source": [
        "### Check Python version <a class=\"anchor\" id=\"subsection31\"></a>"
      ]
    },
    {
      "cell_type": "code",
      "execution_count": null,
      "metadata": {
        "id": "2ex2HpkE9RZO"
      },
      "outputs": [],
      "source": [
        "!python --version"
      ]
    },
    {
      "cell_type": "markdown",
      "metadata": {
        "id": "-_eySeui9RZQ"
      },
      "source": [
        "### Install TIGRE <a class=\"anchor\" id=\"subsection32\"></a>"
      ]
    },
    {
      "cell_type": "code",
      "execution_count": null,
      "metadata": {
        "id": "aKfWhUYT9RZQ"
      },
      "outputs": [],
      "source": [
        "!git clone https://github.com/CERN/TIGRE.git\n",
        "%cd TIGRE/Python\n",
        "!python setup.py install\n",
        "!python example.py"
      ]
    },
    {
      "cell_type": "markdown",
      "metadata": {
        "id": "4v8h5cwF9RZR"
      },
      "source": [
        "### Install CondaColab <a class=\"anchor\" id=\"subsection33\"></a>"
      ]
    },
    {
      "cell_type": "code",
      "execution_count": null,
      "metadata": {
        "id": "FLnfML5W9RZR"
      },
      "outputs": [],
      "source": [
        "!pip install -q condacolab"
      ]
    },
    {
      "cell_type": "code",
      "execution_count": null,
      "metadata": {
        "id": "gtKguQYs9RZS"
      },
      "outputs": [],
      "source": [
        "import condacolab"
      ]
    },
    {
      "cell_type": "markdown",
      "metadata": {
        "id": "a_pQKbev9RZS"
      },
      "source": [
        "### Install Conda <a class=\"anchor\" id=\"subsection34\"></a>\n",
        "\n",
        "**Note:** Please wait for the kernel to restart."
      ]
    },
    {
      "cell_type": "code",
      "execution_count": null,
      "metadata": {
        "id": "WxRRqKdg9RZS"
      },
      "outputs": [],
      "source": [
        "condacolab.install()"
      ]
    },
    {
      "cell_type": "markdown",
      "metadata": {
        "id": "RLwdYGfh9RZT"
      },
      "source": [
        "### Install CIL <a class=\"anchor\" id=\"subsection35\"></a>\n",
        "\n",
        "Using the command below we install CIL, Astra-Toolbox and the CCPi-Regularisation toolkit via `conda` or `mamba`. We are going to use [Mamba](https://github.com/mamba-org/mamba), a fast cross-platform package manager from [Quantstack](https://quantstack.net/). "
      ]
    },
    {
      "cell_type": "code",
      "execution_count": null,
      "metadata": {
        "id": "Vqj4edhh9RZT"
      },
      "outputs": [],
      "source": [
        "\n",
        "!mamba install -c conda-forge -c intel -c ccpi cil=23.0.1 astra-toolbox ccpi-regulariser \"ipywidgets<8\" --quiet\n",
        "!cp -r /usr/local/lib/python3.10/site-packages/astra_toolbox-2.0.0-py3.10-linux-x86_64.egg/astra /usr/local/lib/python3.10/site-packages/\n"
      ]
    },
    {
      "cell_type": "markdown",
      "metadata": {
        "id": "Jqh8F0bf9RZT"
      },
      "source": [
        "### Check CIL version"
      ]
    },
    {
      "cell_type": "code",
      "execution_count": null,
      "metadata": {
        "tags": [],
        "id": "nRd9S12Q9RZU"
      },
      "outputs": [],
      "source": [
        "import cil.version\n",
        "print(cil.version.version)"
      ]
    },
    {
      "cell_type": "markdown",
      "metadata": {
        "id": "Qn6-2lqB9RZU"
      },
      "source": [
        "## Tomography reconstruction using CIL <a class=\"anchor\" id=\"section4\"></a>\n",
        "\n",
        "We are now ready to use CIL to perform tomography reconstruction on a real tomography dataset.\n",
        "\n",
        "### Limited Angle Tomography Reconstruction\n",
        "\n",
        "We are going to use a three-dimensional parallel-beam X-ray CT real dataset from Beamline I13-2, Diamond Light Source, Harwell, UK. \n",
        "\n",
        "The sample consisted of a 0.5 mm aluminium cylinder with a piece of steel wire embedded in a small drilled hole. A droplet of salt water was placed on top, causing corrosion to form hydrogen bubbles. The dataset, which was part of a fast time-lapse experiment, consists of 91 projections over 180, originally acquired as size 2560-by-2160 pixels, and it is downsampled to 160-by-135 pixels see [here](https://github.com/DiamondLightSource/Savu/blob/master/test_data/data/24737_fd.nxs).\n",
        "\n",
        "We reconstruct this dataset using analytic and iterative reconstruction methods with a limited number of projections:\n",
        "\n",
        "* the Filtered Back Projection (FBP) algorithm,\n",
        "\n",
        "* Total variation (TV) regularisation under a non-negativity constraint\n",
        "\n",
        "    <a class=\"anchor\" id=\"tv_reg\"></a>\n",
        "    \\begin{equation}\n",
        "    \\underset{u}{\\operatorname{argmin}} \\frac{1}{2} \\| A u - d\\|^{2}_{2} + \\alpha\\,\\mathrm{TV}(u) + \\mathbb{I}_{\\{u\\geq0\\}}(u)    \n",
        "    \\tag{1}\n",
        "    \\end{equation}\n",
        "\n",
        "    where, $d$ is the noisy sinogram and $A$ is the Projection operator."
      ]
    },
    {
      "cell_type": "markdown",
      "metadata": {
        "id": "iXBGSajs9RZU"
      },
      "source": [
        "### Import libraries <a class=\"anchor\" id=\"subsection41\"></a>"
      ]
    },
    {
      "cell_type": "code",
      "execution_count": null,
      "metadata": {
        "id": "7J4wHxSZPeOv"
      },
      "outputs": [],
      "source": [
        "from cil.framework import  AcquisitionGeometry\n",
        "from cil.processors import TransmissionAbsorptionConverter, Slicer, CentreOfRotationCorrector\n",
        "from cil.optimisation.functions import L2NormSquared\n",
        "from cil.optimisation.algorithms import PDHG\n",
        "from cil.utilities.display import show2D, show_geometry\n",
        "from cil.utilities import dataexample\n",
        "from cil.utilities.jupyter import islicer\n",
        "from cil.plugins.ccpi_regularisation.functions import FGP_TV\n",
        "\n",
        "import matplotlib.pyplot as plt\n",
        "\n",
        "import numpy as np"
      ]
    },
    {
      "cell_type": "markdown",
      "metadata": {
        "id": "s33XImef9RZV"
      },
      "source": [
        "### Import tomography backends: ASTRA and TIGRE <a class=\"anchor\" id=\"subsection42\"></a>"
      ]
    },
    {
      "cell_type": "code",
      "execution_count": null,
      "metadata": {
        "id": "o93Fcdnu9RZV"
      },
      "outputs": [],
      "source": [
        "# Astra Backend\n",
        "from cil.plugins.astra import ProjectionOperator as AstraProjectionOperator\n",
        "from cil.plugins.astra import FBP as AstraFBP\n",
        "\n",
        "# TIGRE backend\n",
        "from cil.plugins.tigre import ProjectionOperator as TigreProjectionOperator\n",
        "from cil.plugins.tigre import FBP as TigreFBP"
      ]
    },
    {
      "cell_type": "markdown",
      "metadata": {
        "id": "1JfYOQP_9RZV"
      },
      "source": [
        "### Load and examine dataset <a class=\"anchor\" id=\"subsection43\"></a>"
      ]
    },
    {
      "cell_type": "code",
      "execution_count": null,
      "metadata": {
        "id": "4qHVTLr_9RZW"
      },
      "outputs": [],
      "source": [
        "# data_raw = dataexample.SYNCHROTRON_PARALLEL_BEAM_DATA.get() # local installation\n",
        "data_raw = dataexample.SYNCHROTRON_PARALLEL_BEAM_DATA.get(data_dir = \"/usr/local/share/cil\") # google colab "
      ]
    },
    {
      "cell_type": "markdown",
      "metadata": {
        "id": "SxYto9iC9RZW"
      },
      "source": [
        "### Preprocess Acquisition Data <a class=\"anchor\" id=\"subsection44\"></a>\n",
        "\n",
        "In the code above, we preprocess our acquired data:\n",
        "\n",
        "- Convert to Absorption using the [Beer-Lambert](https://en.wikipedia.org/wiki/Beer%E2%80%93Lambert_law) law.\n",
        "- Correct for centre of rotation artifacts.\n",
        "- Simulate a limited angled tomography dataset. Our raw data has 91 projections, but we are going to use only 15 of them."
      ]
    },
    {
      "cell_type": "code",
      "execution_count": null,
      "metadata": {
        "id": "GGaMLaCe9RZW"
      },
      "outputs": [],
      "source": [
        "background = data_raw.get_slice(vertical=20).mean()\n",
        "data_raw /= background\n",
        "\n",
        "# Lambert-Beer law\n",
        "data_abs = TransmissionAbsorptionConverter()(data_raw)\n",
        "data_crop = Slicer(roi={'vertical': (1, None)})(data_abs)\n",
        "\n",
        "# Reorder the shape of sinogram only if astra backend is used\n",
        "data_crop.reorder(order='astra')\n",
        "\n",
        "# Correct centre of rotation artifacts\n",
        "data_centred = CentreOfRotationCorrector.xcorrelation()(data_crop)\n",
        "\n",
        "# Reduce number of projections\n",
        "data_sliced = Slicer(roi={'angle': (0, 90, 6), 'horizontal': (20,140,1)})(data_centred)\n",
        "\n",
        "# Get acquisition geometry\n",
        "ag = data_sliced.geometry\n",
        "\n",
        "# Get image geometry\n",
        "ig = ag.get_ImageGeometry()\n"
      ]
    },
    {
      "cell_type": "markdown",
      "metadata": {
        "id": "ltyI2zfJ9RZW"
      },
      "source": [
        "### Show Acquisition Geometry"
      ]
    },
    {
      "cell_type": "code",
      "execution_count": null,
      "metadata": {
        "id": "bzP_vmZv9RZX"
      },
      "outputs": [],
      "source": [
        "show_geometry(ag)"
      ]
    },
    {
      "cell_type": "markdown",
      "metadata": {
        "id": "0EAu3vfI9RZX"
      },
      "source": [
        "### Run analytic reconstruction: FBP using Astra and Tigre <a class=\"anchor\" id=\"subsection45\"></a>"
      ]
    },
    {
      "cell_type": "code",
      "execution_count": null,
      "metadata": {
        "id": "AKqGF60r9RZX"
      },
      "outputs": [],
      "source": [
        "data_sliced.reorder('tigre')\n",
        "fbp_recon_tigre = TigreFBP(ig, ag, device='gpu')(data_sliced)\n",
        "\n",
        "data_sliced.reorder('astra')\n",
        "fbp_recon_astra = AstraFBP(ig, ag, device='gpu')(data_sliced)"
      ]
    },
    {
      "cell_type": "code",
      "execution_count": null,
      "metadata": {
        "id": "W-H527ov9RZX"
      },
      "outputs": [],
      "source": [
        "# visualise reconstruction results\n",
        "show2D(fbp_recon_astra, slice_list=[('vertical',80), \n",
        "                              ('horizontal_y',50), \n",
        "                              ('horizontal_x',50)], \\\n",
        "        cmap=\"inferno\", num_cols=3, size=(15,15), title=\"Astra: FBP reconstruction\", \n",
        "       fix_range = (0,0.1),\n",
        "       origin='upper-left')\n",
        "\n",
        "show2D(fbp_recon_tigre, slice_list=[('vertical',80), \n",
        "                              ('horizontal_y',50), \n",
        "                              ('horizontal_x',50)], \\\n",
        "        cmap=\"inferno\", num_cols=3, size=(15,15), title=\"Tigre: FBP reconstruction\", \n",
        "       fix_range = (0,0.1),\n",
        "       origin='upper-left')\n"
      ]
    },
    {
      "cell_type": "markdown",
      "metadata": {
        "id": "gnpjdXO99RZX"
      },
      "source": [
        "### Run Model-Based iterative reconstruction: Total variation reconstruction <a class=\"anchor\" id=\"subsection46\"></a>\n",
        "\n",
        "The images on the first column are perfect if you are interested to very cool and futuristic star-shaped art. If we examine other slices they are far from perfect for tomography reconstruction. These artifacts are well known when we use analytic reconstruction algoritms on data with a limited number of projections, see [Core Imaging Library--Part I: a versatile Python framework for tomographic imaging](https://royalsocietypublishing.org/doi/abs/10.1098/rsta.2020.0192). \n",
        "\n",
        "To reduce these artifacts, we are going to use **Model-Based Iterative Reconstruction (MBIR)** algorithms. We use the [Primal-Dual Hybrid Gradient (PDHG)](https://link.springer.com/article/10.1007/s10851-010-0251-1)\n",
        "with [Total Variation (TV)](https://en.wikipedia.org/wiki/Total_variation) regularisation under a non-negativity constraint.\n",
        "\n",
        "The PDHG algorithm solves the following problem:\n",
        "\n",
        "<a id='pdhg_alg'></a>\n",
        "\\begin{equation}\n",
        "\\underset{x\\in \\mathbb{X} }{\\operatorname{argmin}} f(Kx) + g(x)\n",
        "\\tag{2}\n",
        "\\end{equation}\n",
        "\n",
        "which is the sum of a composite function $f$ with a linear operator $K$ and a proximable function $g$. \n",
        "\n",
        "So, in order to use the PDHG algorithm in CIL, we need to find the triplet $(f, g, K)$ in order to express the minimisation problem [(1)](#tv_reg) to the general PDHG form [(2)](#pdhg_alg).\n",
        "\n",
        "- In our case, we have $K=A$, i.e., our Astra projection operator `A = AstraProjectionOperator(ig, ag, device=\"gpu\")` **Note: cpu option is not available for the TIGRE backend**\n",
        "\n",
        "- The first term in [(1)](#tv_reg), also called **fidelity term**, is $f(u) = \\frac{1}{2}\\|Au - d\\|^{2}$ and in CIL syntax, is `F = LeastSquares(A=A, b=data_centred, c=0.5)`\n",
        "\n",
        "- The second term in [(1)](#tv_reg) is the TV **regulariser** with a non-negativity constraint and in CIL syntax is `G = alpha * FGP_TV(nonnegativity=True, device = \"gpu\")`, where `alpha` is the regularisation parameter. \n",
        "\n",
        "Now, it is time to run the PDHG algorithm, for 100 iterations. We can initialise our algorithm from an array of zeros, `ig.allocate()` or the previous FBP reconstruction. We also print the objective of the primal problem every 10 iterations using `verbose=1`"
      ]
    },
    {
      "cell_type": "code",
      "execution_count": null,
      "metadata": {
        "id": "G69nKfg59RZY"
      },
      "outputs": [],
      "source": [
        "# Projection Operator\n",
        "A = AstraProjectionOperator(ig, ag, device=\"gpu\")\n",
        "\n",
        "# Fidelity term\n",
        "F = 0.5*L2NormSquared(b=data_sliced)\n",
        "\n",
        "# TV regularization\n",
        "alpha = 0.2\n",
        "G = alpha * FGP_TV(nonnegativity=True, device = \"gpu\")\n",
        "\n",
        "# setup and run PDHG algorithm\n",
        "pdhg = PDHG(initial=fbp_recon_astra, f=F, g=G, operator=A, \n",
        "            update_objective_interval=10,max_iteration=100)\n",
        "pdhg.run(verbose=1)"
      ]
    },
    {
      "cell_type": "code",
      "execution_count": null,
      "metadata": {
        "id": "LAIpfgj69RZY"
      },
      "outputs": [],
      "source": [
        "show2D(pdhg.solution, slice_list=[('vertical',80), \n",
        "                              ('horizontal_y',50), \n",
        "                              ('horizontal_x',50)], \\\n",
        "        cmap=\"inferno\", num_cols=3,title=\"TV: alpha = {}\".format(alpha),\n",
        "        fix_range=(0,0.1), origin='upper')"
      ]
    },
    {
      "cell_type": "markdown",
      "metadata": {
        "id": "Sfzfeej89RZY"
      },
      "source": [
        "## Discussion\n",
        "\n",
        "Using the iterative reconstruction approach, we successfully eliminated the noise and streak artifacts from our initial analytic reconstruction. However, in order to determine whether the resulting reconstruction is good or bad requires further evaluation and assessment. For this particular dataset, we can perform the following comparison. We can reconstruct our dataset using all 91 projections with the FBP algorithm and compare it with our TV reconstructed image."
      ]
    },
    {
      "cell_type": "code",
      "execution_count": null,
      "metadata": {
        "tags": [],
        "id": "mah-2M7o9RZY"
      },
      "outputs": [],
      "source": [
        "data_full = Slicer(roi={'horizontal': (20,140,1)})(data_centred)\n",
        "ag_full = data_full.geometry\n",
        "ig_full = ag_full.get_ImageGeometry()\n",
        "fbp_full_astra = AstraFBP(ig_full, ag_full, device='gpu')(data_full)"
      ]
    },
    {
      "cell_type": "code",
      "execution_count": null,
      "metadata": {
        "tags": [],
        "id": "qlL3bhhs9RZZ"
      },
      "outputs": [],
      "source": [
        "all_recons = [fbp_full_astra.get_slice(vertical=80), fbp_recon_astra.get_slice(vertical=80), pdhg.solution.get_slice(vertical=80),\n",
        "              fbp_full_astra.get_slice(horizontal_y=50), fbp_recon_astra.get_slice(horizontal_y=50), pdhg.solution.get_slice(horizontal_y=50),\n",
        "              fbp_full_astra.get_slice(horizontal_x=50), fbp_recon_astra.get_slice(horizontal_x=50), pdhg.solution.get_slice(horizontal_x=50)]"
      ]
    },
    {
      "cell_type": "code",
      "execution_count": null,
      "metadata": {
        "tags": [],
        "id": "WTh1aM2Z9RZd"
      },
      "outputs": [],
      "source": [
        "from mpl_toolkits.axes_grid1 import AxesGrid\n",
        "from mpl_toolkits.axes_grid1.anchored_artists import AnchoredSizeBar     \n",
        "\n",
        "labels_x = [\"FBP\\n All data\", \"FBP\\n Limited data\",\"TV reconstruction\\n Limited data\"]\n",
        "labels_y = [\"Vertical\\n slice = 80\", \"Horizontal_y\\n slice = 50\", \"Horizontal_x\\n slice = 50\"]\n",
        "\n",
        "fig = plt.figure(figsize=(15, 15))\n",
        "nrows, ncols = 3, 3\n",
        "grid = AxesGrid(fig, 111,\n",
        "                nrows_ncols=(nrows, ncols),\n",
        "                axes_pad=0.05,\n",
        "                cbar_mode='single',\n",
        "                cbar_location='bottom',\n",
        "                cbar_size = 0.5,\n",
        "                cbar_pad=0.1\n",
        "                )\n",
        "\n",
        "k = 0\n",
        "\n",
        "for ax in grid:\n",
        "\n",
        "    im = ax.imshow(all_recons[k].array, vmin=0, vmax=0.1, cmap=\"inferno\")\n",
        "    \n",
        "                  \n",
        "    if k in [0, 1, 2]:\n",
        "        ax.set_title(labels_x[k],fontsize=25)\n",
        "        \n",
        "    if k in [0, 3, 6]:\n",
        "        ax.set_ylabel(labels_y[np.divmod(k,nrows)[0]],fontsize=25, labelpad=20)\n",
        "                  \n",
        "                \n",
        "    ax.set_xticks([])\n",
        "    ax.set_yticks([])\n",
        "    k+=1\n",
        "    \n",
        "cbar = ax.cax.colorbar(im)\n",
        "plt.show()"
      ]
    },
    {
      "cell_type": "markdown",
      "metadata": {
        "id": "SY3YGwxI9RZd"
      },
      "source": [
        "## More CIL-Demos\n",
        "\n",
        "To try more demos on Google Colab, please visit our [CIL-Demos](https://github.com/TomographicImaging/CIL-Demos) repository and load one of our notebooks to the Google Colab platform and repeat the installation steps above. Please note that for some notebooks you need to download first the dataset required to run the notebook.\n",
        "\n"
      ]
    }
  ],
  "metadata": {
    "accelerator": "GPU",
    "colab": {
      "provenance": [],
      "include_colab_link": true
    },
    "kernelspec": {
      "display_name": "Python [conda env:vaggelis_cupy_d]",
      "language": "python",
      "name": "conda-env-vaggelis_cupy_d-py"
    },
    "language_info": {
      "codemirror_mode": {
        "name": "ipython",
        "version": 3
      },
      "file_extension": ".py",
      "mimetype": "text/x-python",
      "name": "python",
      "nbconvert_exporter": "python",
      "pygments_lexer": "ipython3",
      "version": "3.9.13"
    }
  },
  "nbformat": 4,
  "nbformat_minor": 0
}